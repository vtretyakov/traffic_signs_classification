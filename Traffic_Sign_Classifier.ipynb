{
 "cells": [
  {
   "cell_type": "markdown",
   "metadata": {
    "deletable": true,
    "editable": true
   },
   "source": [
    "# Self-Driving Car Engineer Nanodegree\n",
    "\n",
    "## Deep Learning\n",
    "\n",
    "## Project: Build a Traffic Sign Recognition Classifier\n",
    "\n",
    "In this notebook, a template is provided for you to implement your functionality in stages, which is required to successfully complete this project. If additional code is required that cannot be included in the notebook, be sure that the Python code is successfully imported and included in your submission if necessary. \n",
    "\n",
    "> **Note**: Once you have completed all of the code implementations, you need to finalize your work by exporting the iPython Notebook as an HTML document. Before exporting the notebook to html, all of the code cells need to have been run so that reviewers can see the final implementation and output. You can then export the notebook by using the menu above and navigating to  \\n\",\n",
    "    \"**File -> Download as -> HTML (.html)**. Include the finished document along with this notebook as your submission. \n",
    "\n",
    "In addition to implementing code, there is a writeup to complete. The writeup should be completed in a separate file, which can be either a markdown file or a pdf document. There is a [write up template](https://github.com/udacity/CarND-Traffic-Sign-Classifier-Project/blob/master/writeup_template.md) that can be used to guide the writing process. Completing the code template and writeup template will cover all of the [rubric points](https://review.udacity.com/#!/rubrics/481/view) for this project.\n",
    "\n",
    "The [rubric](https://review.udacity.com/#!/rubrics/481/view) contains \"Stand Out Suggestions\" for enhancing the project beyond the minimum requirements. The stand out suggestions are optional. If you decide to pursue the \"stand out suggestions\", you can include the code in this Ipython notebook and also discuss the results in the writeup file.\n",
    "\n",
    "\n",
    ">**Note:** Code and Markdown cells can be executed using the **Shift + Enter** keyboard shortcut. In addition, Markdown cells can be edited by typically double-clicking the cell to enter edit mode."
   ]
  },
  {
   "cell_type": "markdown",
   "metadata": {
    "deletable": true,
    "editable": true
   },
   "source": [
    "---\n",
    "## Step 0: Load The Data"
   ]
  },
  {
   "cell_type": "code",
   "execution_count": 1,
   "metadata": {
    "collapsed": false,
    "deletable": true,
    "editable": true
   },
   "outputs": [],
   "source": [
    "# Load pickled data\n",
    "import pickle\n",
    "\n",
    "# TODO: Fill this in based on where you saved the training and testing data\n",
    "\n",
    "training_file = \"traffic-signs-data/train.p\"\n",
    "validation_file= \"traffic-signs-data/valid.p\"\n",
    "testing_file = \"traffic-signs-data/test.p\"\n",
    "\n",
    "with open(training_file, mode='rb') as f:\n",
    "    train = pickle.load(f)\n",
    "with open(validation_file, mode='rb') as f:\n",
    "    valid = pickle.load(f)\n",
    "with open(testing_file, mode='rb') as f:\n",
    "    test = pickle.load(f)\n",
    "    \n",
    "X_train, y_train = train['features'], train['labels']\n",
    "X_valid, y_valid = valid['features'], valid['labels']\n",
    "X_test, y_test = test['features'], test['labels']"
   ]
  },
  {
   "cell_type": "markdown",
   "metadata": {
    "deletable": true,
    "editable": true
   },
   "source": [
    "---\n",
    "\n",
    "## Step 1: Dataset Summary & Exploration\n",
    "\n",
    "The pickled data is a dictionary with 4 key/value pairs:\n",
    "\n",
    "- `'features'` is a 4D array containing raw pixel data of the traffic sign images, (num examples, width, height, channels).\n",
    "- `'labels'` is a 1D array containing the label/class id of the traffic sign. The file `signnames.csv` contains id -> name mappings for each id.\n",
    "- `'sizes'` is a list containing tuples, (width, height) representing the original width and height the image.\n",
    "- `'coords'` is a list containing tuples, (x1, y1, x2, y2) representing coordinates of a bounding box around the sign in the image. **THESE COORDINATES ASSUME THE ORIGINAL IMAGE. THE PICKLED DATA CONTAINS RESIZED VERSIONS (32 by 32) OF THESE IMAGES**\n",
    "\n",
    "Complete the basic data summary below. Use python, numpy and/or pandas methods to calculate the data summary rather than hard coding the results. For example, the [pandas shape method](http://pandas.pydata.org/pandas-docs/stable/generated/pandas.DataFrame.shape.html) might be useful for calculating some of the summary results. "
   ]
  },
  {
   "cell_type": "markdown",
   "metadata": {
    "deletable": true,
    "editable": true
   },
   "source": [
    "### Provide a Basic Summary of the Data Set Using Python, Numpy and/or Pandas"
   ]
  },
  {
   "cell_type": "code",
   "execution_count": 2,
   "metadata": {
    "collapsed": false,
    "deletable": true,
    "editable": true
   },
   "outputs": [
    {
     "name": "stdout",
     "output_type": "stream",
     "text": [
      "Number of training examples = 34799\n",
      "Number of validation examples = 4410\n",
      "Number of testing examples = 12630\n",
      "Image data shape = (32, 32, 3)\n",
      "Number of classes = 43\n"
     ]
    }
   ],
   "source": [
    "### Replace each question mark with the appropriate value. \n",
    "### Use python, pandas or numpy methods rather than hard coding the results\n",
    "import numpy as np\n",
    "import pandas as pd\n",
    "\n",
    "# TODO: Number of training examples\n",
    "#df = pd.DataFrame.from_records(X_train)\n",
    "#rows, columns = df.shape\n",
    "#rows, columns = pd.DataFrame.from_records(X_train).shape\n",
    "#Is there a shorter form of it? Why using pandas if X_train.shape[0] or len(X_train) give the same?\n",
    "n_train = pd.DataFrame.from_records(X_train).shape[0]\n",
    "\n",
    "# TODO: Number of validation examples\n",
    "n_validation = pd.DataFrame.from_records(X_valid).shape[0]\n",
    "\n",
    "# TODO: Number of testing examples.\n",
    "n_test = pd.DataFrame.from_records(X_test).shape[0]\n",
    "\n",
    "# TODO: What's the shape of an traffic sign image?\n",
    "image_shape = X_train[0].shape\n",
    "\n",
    "# TODO: How many unique classes/labels there are in the dataset.\n",
    "n_classes = len(np.unique(y_test))\n",
    "\n",
    "assert(len(X_train) == len(y_train))\n",
    "assert(len(X_valid) == len(y_valid))\n",
    "assert(len(X_test) == len(y_test))\n",
    "\n",
    "print(\"Number of training examples =\", n_train)\n",
    "print(\"Number of validation examples =\", n_validation)\n",
    "print(\"Number of testing examples =\", n_test)\n",
    "print(\"Image data shape =\", image_shape)\n",
    "print(\"Number of classes =\", n_classes)"
   ]
  },
  {
   "cell_type": "markdown",
   "metadata": {
    "deletable": true,
    "editable": true
   },
   "source": [
    "### Include an exploratory visualization of the dataset"
   ]
  },
  {
   "cell_type": "markdown",
   "metadata": {
    "deletable": true,
    "editable": true
   },
   "source": [
    "Visualize the German Traffic Signs Dataset using the pickled file(s). This is open ended, suggestions include: plotting traffic sign images, plotting the count of each sign, etc. \n",
    "\n",
    "The [Matplotlib](http://matplotlib.org/) [examples](http://matplotlib.org/examples/index.html) and [gallery](http://matplotlib.org/gallery.html) pages are a great resource for doing visualizations in Python.\n",
    "\n",
    "**NOTE:** It's recommended you start with something simple first. If you wish to do more, come back to it after you've completed the rest of the sections. It can be interesting to look at the distribution of classes in the training, validation and test set. Is the distribution the same? Are there more examples of some classes than others?"
   ]
  },
  {
   "cell_type": "code",
   "execution_count": 3,
   "metadata": {
    "collapsed": false,
    "deletable": true,
    "editable": true
   },
   "outputs": [
    {
     "name": "stdout",
     "output_type": "stream",
     "text": [
      "                 SignName\n",
      "ClassId                  \n",
      "33       Turn right ahead\n"
     ]
    },
    {
     "data": {
      "image/png": "[encoded data removed]",
      "text/plain": [
       "<matplotlib.figure.Figure at 0x1102ab4e0>"
      ]
     },
     "metadata": {},
     "output_type": "display_data"
    }
   ],
   "source": [
    "### Data exploration visualization code goes here.\n",
    "### Feel free to use as many code cells as needed.\n",
    "import random\n",
    "import matplotlib.pyplot as plt\n",
    "# Visualizations will be shown in the notebook.\n",
    "%matplotlib inline\n",
    "\n",
    "index = random.randint(0, len(X_train))\n",
    "image = X_train[index].squeeze()\n",
    "\n",
    "plt.figure(figsize=(1,1))\n",
    "plt.imshow(image)\n",
    "class_id = y_train[index] \n",
    "signes_names = pd.read_csv(\"signnames.csv\") \n",
    "signes_names_idx = signes_names.set_index(\"ClassId\")\n",
    "print(signes_names_idx.loc[class_id:class_id])"
   ]
  },
  {
   "cell_type": "markdown",
   "metadata": {
    "deletable": true,
    "editable": true
   },
   "source": [
    "----\n",
    "\n",
    "## Step 2: Design and Test a Model Architecture\n",
    "\n",
    "Design and implement a deep learning model that learns to recognize traffic signs. Train and test your model on the [German Traffic Sign Dataset](http://benchmark.ini.rub.de/?section=gtsrb&subsection=dataset).\n",
    "\n",
    "The LeNet-5 implementation shown in the [classroom](https://classroom.udacity.com/nanodegrees/nd013/parts/fbf77062-5703-404e-b60c-95b78b2f3f9e/modules/6df7ae49-c61c-4bb2-a23e-6527e69209ec/lessons/601ae704-1035-4287-8b11-e2c2716217ad/concepts/d4aca031-508f-4e0b-b493-e7b706120f81) at the end of the CNN lesson is a solid starting point. You'll have to change the number of classes and possibly the preprocessing, but aside from that it's plug and play! \n",
    "\n",
    "With the LeNet-5 solution from the lecture, you should expect a validation set accuracy of about 0.89. To meet specifications, the validation set accuracy will need to be at least 0.93. It is possible to get an even higher accuracy, but 0.93 is the minimum for a successful project submission. \n",
    "\n",
    "There are various aspects to consider when thinking about this problem:\n",
    "\n",
    "- Neural network architecture (is the network over or underfitting?)\n",
    "- Play around preprocessing techniques (normalization, rgb to grayscale, etc)\n",
    "- Number of examples per label (some have more than others).\n",
    "- Generate fake data.\n",
    "\n",
    "Here is an example of a [published baseline model on this problem](http://yann.lecun.com/exdb/publis/pdf/sermanet-ijcnn-11.pdf). It's not required to be familiar with the approach used in the paper but, it's good practice to try to read papers like these."
   ]
  },
  {
   "cell_type": "markdown",
   "metadata": {
    "deletable": true,
    "editable": true
   },
   "source": [
    "### Pre-process the Data Set (normalization, grayscale, etc.)"
   ]
  },
  {
   "cell_type": "markdown",
   "metadata": {
    "deletable": true,
    "editable": true
   },
   "source": [
    "Minimally, the image data should be normalized so that the data has mean zero and equal variance. For image data, `(pixel - 128)/ 128` is a quick way to approximately normalize the data and can be used in this project. \n",
    "\n",
    "Other pre-processing steps are optional. You can try different techniques to see if it improves performance. \n",
    "\n",
    "Use the code cell (or multiple code cells, if necessary) to implement the first step of your project."
   ]
  },
  {
   "cell_type": "code",
   "execution_count": 4,
   "metadata": {
    "collapsed": false,
    "deletable": true,
    "editable": true,
    "scrolled": true
   },
   "outputs": [
    {
     "name": "stdout",
     "output_type": "stream",
     "text": [
      "new shape  (32, 32, 1)\n",
      "(34799, 32, 32, 1)\n"
     ]
    },
    {
     "data": {
      "image/png": "[encoded data removed]",
      "text/plain": [
       "<matplotlib.figure.Figure at 0x110fb1a90>"
      ]
     },
     "metadata": {},
     "output_type": "display_data"
    }
   ],
   "source": [
    "### Preprocess the data here. It is required to normalize the data. Other preprocessing steps could include \n",
    "### converting to grayscale, etc.\n",
    "### Feel free to use as many code cells as needed.\n",
    "from sklearn.utils import shuffle\n",
    "from PIL import Image\n",
    "\n",
    "def rgb2gray(rgb):\n",
    "    return np.dot(rgb[...,:3], [0.299, 0.587, 0.114])\n",
    "\n",
    "def normalize(image):\n",
    "   mean, std = image.mean(), image.std()\n",
    "   image_norm = (image - mean) / std\n",
    "   return image_norm\n",
    "\n",
    "#shuffle images\n",
    "X_train, y_train = shuffle(X_train, y_train)\n",
    "\n",
    "#convert to gray-scale\n",
    "image_depth = 1\n",
    "X_train = rgb2gray(X_train)\n",
    "X_train = X_train.reshape(len(X_train),32,32,1)\n",
    "X_valid = rgb2gray(X_valid)\n",
    "X_valid = X_valid.reshape(len(X_valid),32,32,1)\n",
    "X_test = rgb2gray(X_test)\n",
    "X_test = X_test.reshape(len(X_test),32,32,1)\n",
    "\n",
    "print (\"new shape \",X_train[0].shape)\n",
    "X_train_tmp = X_train[42].squeeze() #one sample just to display\n",
    "plt.figure(figsize=(1,1))\n",
    "plt.imshow(X_train_tmp, cmap='gray')\n",
    "\n",
    "#normalize\n",
    "X_train_norm = normalize(X_train)\n",
    "X_valid_norm = normalize(X_valid)\n",
    "X_test_norm = normalize(X_test)\n",
    "#X_train = (X_train - 128)/128\n",
    "print (X_train_norm.shape)\n",
    "\n"
   ]
  },
  {
   "cell_type": "markdown",
   "metadata": {
    "deletable": true,
    "editable": true
   },
   "source": [
    "### Model Architecture"
   ]
  },
  {
   "cell_type": "code",
   "execution_count": 5,
   "metadata": {
    "collapsed": true,
    "deletable": true,
    "editable": true
   },
   "outputs": [],
   "source": [
    "### Define your architecture here.\n",
    "### Feel free to use as many code cells as needed.\n",
    "\n",
    "import tensorflow as tf\n",
    "\n",
    "EPOCHS = 50\n",
    "BATCH_SIZE = 128\n",
    "\n",
    "\n",
    "from tensorflow.contrib.layers import flatten\n",
    "\n",
    "L3_display = tf.Variable(tf.zeros(120))\n",
    "\n",
    "def LeNet(x):    \n",
    "    # Arguments used for tf.truncated_normal, randomly defines variables for the weights and biases for each layer\n",
    "    mu = 0\n",
    "    sigma = 0.1\n",
    "    \n",
    "    # TODO: Layer 1: Convolutional. Input = 32x32x3. Output = 28x28x6.\n",
    "    L1_W = tf.Variable(tf.truncated_normal((5, 5, image_depth, 6), mean = mu, stddev = sigma)) # (height, width, input_depth, output_depth)\n",
    "    L1_b = tf.Variable(tf.zeros(6))\n",
    "    L1 = tf.nn.conv2d(x, L1_W, strides=[1, 1, 1, 1], padding='VALID')\n",
    "    L1 = tf.nn.bias_add(L1, L1_b)\n",
    "    \n",
    "    # TODO: Activation.\n",
    "    L1 = tf.nn.relu(L1)\n",
    "    \n",
    "    # TODO: Pooling. Input = 28x28x6. Output = 14x14x6.\n",
    "    L1 = tf.nn.max_pool(L1, ksize=[1, 2, 2, 1], strides=[1, 2, 2, 1], padding='VALID')\n",
    "    \n",
    "    # TODO: Layer 2: Convolutional. Output = 10x10x16.\n",
    "    L2_W = tf.Variable(tf.truncated_normal((5, 5, 6, 16), mean = mu, stddev = sigma)) # (height, width, input_depth, output_depth)\n",
    "    L2_b = tf.Variable(tf.zeros(16))\n",
    "    L2 = tf.nn.conv2d(L1, L2_W, strides=[1, 1, 1, 1], padding='VALID')\n",
    "    L2 = tf.nn.bias_add(L2, L2_b)\n",
    "    \n",
    "    # TODO: Activation.\n",
    "    L2 = tf.nn.relu(L2)\n",
    "\n",
    "    # TODO: Pooling. Input = 10x10x16. Output = 5x5x16.\n",
    "    L2 = tf.nn.max_pool(L2, ksize=[1, 2, 2, 1], strides=[1, 2, 2, 1], padding='VALID')\n",
    "\n",
    "    # TODO: Flatten. Input = 5x5x16. Output = 400.\n",
    "    L2 = flatten(L2)\n",
    "    \n",
    "    # TODO: Layer 3: Fully Connected. Input = 400. Output = 120.\n",
    "    L3_W = tf.Variable(tf.truncated_normal(shape=(400, 120), mean = mu, stddev = sigma)) # (height, width, input_depth, output_depth)\n",
    "    L3_b = tf.Variable(tf.zeros(120))\n",
    "    L3 = tf.add(tf.matmul(L2, L3_W), L3_b)\n",
    "    #L3 = tf.matmul(L2, L3_W) + L3_b #solution from Udacity\n",
    "\n",
    "    # TODO: Activation.\n",
    "    L3 = tf.nn.relu(L3)\n",
    "    L3_display = L3\n",
    "    L3 = tf.nn.dropout(L3, 0.75) # Dropout, probability to keep units\n",
    "\n",
    "    # TODO: Layer 4: Fully Connected. Input = 120. Output = 84.\n",
    "    L4_W = tf.Variable(tf.truncated_normal(shape=(120, 84), mean = mu, stddev = sigma)) # (height, width, input_depth, output_depth)\n",
    "    L4_b = tf.Variable(tf.zeros(84))\n",
    "    L4 = tf.add(tf.matmul(L3, L4_W), L4_b)\n",
    "    #L4 = tf.matmul(L3, L4_W) + L4_b #solution from Udacity\n",
    "    \n",
    "    # TODO: Activation.\n",
    "    L4 = tf.nn.relu(L4)\n",
    "    L4 = tf.nn.dropout(L4, 0.75) # Dropout, probability to keep units\n",
    "\n",
    "    # TODO: Layer 5: Fully Connected. Input = 84. Output = 43.\n",
    "    L5_W = tf.Variable(tf.truncated_normal(shape=(84, n_classes), mean = mu, stddev = sigma)) # (height, width, input_depth, output_depth)\n",
    "    L5_b = tf.Variable(tf.zeros(n_classes))\n",
    "    logits = tf.add(tf.matmul(L4, L5_W), L5_b)\n",
    "    #logits = tf.matmul(L4, L5_W) + L5_b #solution from Udacity\n",
    "    \n",
    "    return logits"
   ]
  },
  {
   "cell_type": "markdown",
   "metadata": {
    "deletable": true,
    "editable": true
   },
   "source": [
    "### Train, Validate and Test the Model"
   ]
  },
  {
   "cell_type": "markdown",
   "metadata": {
    "deletable": true,
    "editable": true
   },
   "source": [
    "A validation set can be used to assess how well the model is performing. A low accuracy on the training and validation\n",
    "sets imply underfitting. A high accuracy on the training set but low accuracy on the validation set implies overfitting."
   ]
  },
  {
   "cell_type": "code",
   "execution_count": 6,
   "metadata": {
    "collapsed": false,
    "deletable": true,
    "editable": true
   },
   "outputs": [],
   "source": [
    "### Train your model here.\n",
    "### Calculate and report the accuracy on the training and validation set.\n",
    "### Once a final model architecture is selected, \n",
    "### the accuracy on the test set should be calculated and reported as well.\n",
    "### Feel free to use as many code cells as needed.\n",
    "\n",
    "#Features and Labels\n",
    "x = tf.placeholder(tf.float32, (None, 32, 32, image_depth))\n",
    "y = tf.placeholder(tf.int32, (None))\n",
    "one_hot_y = tf.one_hot(y, n_classes)\n",
    "\n",
    "#Training Pipeline\n",
    "rate = 0.001\n",
    "\n",
    "logits = LeNet(x)\n",
    "cross_entropy = tf.nn.softmax_cross_entropy_with_logits(labels=one_hot_y, logits=logits)\n",
    "loss_operation = tf.reduce_mean(cross_entropy)\n",
    "optimizer = tf.train.AdamOptimizer(learning_rate = rate)\n",
    "training_operation = optimizer.minimize(loss_operation)\n",
    "\n",
    "#Model Evaluation\n",
    "correct_prediction = tf.equal(tf.argmax(logits, 1), tf.argmax(one_hot_y, 1))\n",
    "accuracy_operation = tf.reduce_mean(tf.cast(correct_prediction, tf.float32))\n",
    "saver = tf.train.Saver()\n",
    "\n",
    "def evaluate(X_data, y_data):\n",
    "    num_examples = len(X_data)\n",
    "    total_accuracy = 0\n",
    "    sess = tf.get_default_session()\n",
    "    for offset in range(0, num_examples, BATCH_SIZE):\n",
    "        batch_x, batch_y = X_data[offset:offset+BATCH_SIZE], y_data[offset:offset+BATCH_SIZE]\n",
    "        accuracy = sess.run(accuracy_operation, feed_dict={x: batch_x, y: batch_y})\n",
    "        total_accuracy += (accuracy * len(batch_x))\n",
    "    return total_accuracy / num_examples\n",
    "\n",
    "\n"
   ]
  },
  {
   "cell_type": "code",
   "execution_count": 7,
   "metadata": {
    "collapsed": false,
    "deletable": true,
    "editable": true
   },
   "outputs": [
    {
     "name": "stdout",
     "output_type": "stream",
     "text": [
      "Training...\n",
      "\n",
      "EPOCH 1 ...\n",
      "Validation Accuracy = 0.688\n",
      "\n",
      "EPOCH 2 ...\n",
      "Validation Accuracy = 0.794\n",
      "\n",
      "EPOCH 3 ...\n",
      "Validation Accuracy = 0.844\n",
      "\n",
      "EPOCH 4 ...\n",
      "Validation Accuracy = 0.865\n",
      "\n",
      "EPOCH 5 ...\n",
      "Validation Accuracy = 0.896\n",
      "\n",
      "EPOCH 6 ...\n",
      "Validation Accuracy = 0.881\n",
      "\n",
      "EPOCH 7 ...\n",
      "Validation Accuracy = 0.898\n",
      "\n",
      "EPOCH 8 ...\n",
      "Validation Accuracy = 0.896\n",
      "\n",
      "EPOCH 9 ...\n",
      "Validation Accuracy = 0.909\n",
      "\n",
      "EPOCH 10 ...\n",
      "Validation Accuracy = 0.903\n",
      "\n",
      "EPOCH 11 ...\n",
      "Validation Accuracy = 0.917\n",
      "\n",
      "EPOCH 12 ...\n",
      "Validation Accuracy = 0.913\n",
      "\n",
      "EPOCH 13 ...\n",
      "Validation Accuracy = 0.909\n",
      "\n",
      "EPOCH 14 ...\n",
      "Validation Accuracy = 0.914\n",
      "\n",
      "EPOCH 15 ...\n",
      "Validation Accuracy = 0.917\n",
      "\n",
      "EPOCH 16 ...\n",
      "Validation Accuracy = 0.923\n",
      "\n",
      "EPOCH 17 ...\n",
      "Validation Accuracy = 0.925\n",
      "\n",
      "EPOCH 18 ...\n",
      "Validation Accuracy = 0.922\n",
      "\n",
      "EPOCH 19 ...\n",
      "Validation Accuracy = 0.920\n",
      "\n",
      "EPOCH 20 ...\n",
      "Validation Accuracy = 0.925\n",
      "\n",
      "EPOCH 21 ...\n",
      "Validation Accuracy = 0.919\n",
      "\n",
      "EPOCH 22 ...\n",
      "Validation Accuracy = 0.934\n",
      "\n",
      "EPOCH 23 ...\n",
      "Validation Accuracy = 0.929\n",
      "\n",
      "EPOCH 24 ...\n",
      "Validation Accuracy = 0.931\n",
      "\n",
      "EPOCH 25 ...\n",
      "Validation Accuracy = 0.931\n",
      "\n",
      "EPOCH 26 ...\n",
      "Validation Accuracy = 0.937\n",
      "\n",
      "EPOCH 27 ...\n",
      "Validation Accuracy = 0.926\n",
      "\n",
      "EPOCH 28 ...\n",
      "Validation Accuracy = 0.928\n",
      "\n",
      "EPOCH 29 ...\n",
      "Validation Accuracy = 0.927\n",
      "\n",
      "EPOCH 30 ...\n",
      "Validation Accuracy = 0.931\n",
      "\n",
      "EPOCH 31 ...\n",
      "Validation Accuracy = 0.931\n",
      "\n",
      "EPOCH 32 ...\n",
      "Validation Accuracy = 0.927\n",
      "\n",
      "EPOCH 33 ...\n",
      "Validation Accuracy = 0.937\n",
      "\n",
      "EPOCH 34 ...\n",
      "Validation Accuracy = 0.931\n",
      "\n",
      "EPOCH 35 ...\n",
      "Validation Accuracy = 0.924\n",
      "\n",
      "EPOCH 36 ...\n",
      "Validation Accuracy = 0.934\n",
      "\n",
      "EPOCH 37 ...\n",
      "Validation Accuracy = 0.936\n",
      "\n",
      "EPOCH 38 ...\n",
      "Validation Accuracy = 0.942\n",
      "\n",
      "EPOCH 39 ...\n",
      "Validation Accuracy = 0.933\n",
      "\n",
      "EPOCH 40 ...\n",
      "Validation Accuracy = 0.936\n",
      "\n",
      "EPOCH 41 ...\n",
      "Validation Accuracy = 0.937\n",
      "\n",
      "EPOCH 42 ...\n",
      "Validation Accuracy = 0.934\n",
      "\n",
      "EPOCH 43 ...\n",
      "Validation Accuracy = 0.939\n",
      "\n",
      "EPOCH 44 ...\n",
      "Validation Accuracy = 0.932\n",
      "\n",
      "EPOCH 45 ...\n",
      "Validation Accuracy = 0.946\n",
      "\n",
      "EPOCH 46 ...\n",
      "Validation Accuracy = 0.943\n",
      "\n",
      "EPOCH 47 ...\n",
      "Validation Accuracy = 0.934\n",
      "\n",
      "EPOCH 48 ...\n",
      "Validation Accuracy = 0.941\n",
      "\n",
      "EPOCH 49 ...\n",
      "Validation Accuracy = 0.936\n",
      "\n",
      "EPOCH 50 ...\n",
      "Validation Accuracy = 0.943\n",
      "\n",
      "Model saved\n"
     ]
    }
   ],
   "source": [
    "#Train the Model\n",
    "with tf.Session() as sess:\n",
    "    sess.run(tf.global_variables_initializer())\n",
    "    num_examples = len(X_train_norm)\n",
    "    \n",
    "    print(\"Training...\")\n",
    "    print()\n",
    "    for i in range(EPOCHS):\n",
    "        X_train_norm, y_train = shuffle(X_train_norm, y_train)\n",
    "        for offset in range(0, num_examples, BATCH_SIZE):\n",
    "            end = offset + BATCH_SIZE\n",
    "            batch_x, batch_y = X_train_norm[offset:end], y_train[offset:end]\n",
    "            sess.run(training_operation, feed_dict={x: batch_x, y: batch_y})\n",
    "            \n",
    "        validation_accuracy = evaluate(X_valid_norm, y_valid)\n",
    "        print(\"EPOCH {} ...\".format(i+1))\n",
    "        print(\"Validation Accuracy = {:.3f}\".format(validation_accuracy))\n",
    "        print()\n",
    "        \n",
    "    saver.save(sess, './classifier_lenet')\n",
    "    print(\"Model saved\")\n",
    "    "
   ]
  },
  {
   "cell_type": "markdown",
   "metadata": {
    "deletable": true,
    "editable": true
   },
   "source": [
    "---\n",
    "\n",
    "## Step 3: Test a Model on New Images\n",
    "\n",
    "To give yourself more insight into how your model is working, download at least five pictures of German traffic signs from the web and use your model to predict the traffic sign type.\n",
    "\n",
    "You may find `signnames.csv` useful as it contains mappings from the class id (integer) to the actual sign name."
   ]
  },
  {
   "cell_type": "markdown",
   "metadata": {
    "deletable": true,
    "editable": true
   },
   "source": [
    "### Load and Output the Images"
   ]
  },
  {
   "cell_type": "code",
   "execution_count": 8,
   "metadata": {
    "collapsed": false,
    "deletable": true,
    "editable": true
   },
   "outputs": [
    {
     "name": "stdout",
     "output_type": "stream",
     "text": [
      "Testing 5 images\n",
      "Testing Accuracy = 5.000\n",
      "\n",
      "[ 8  1 12 14 38]\n"
     ]
    },
    {
     "data": {
      "image/png": "[encoded data removed]",
      "text/plain": [
       "<matplotlib.figure.Figure at 0x14d5f3e80>"
      ]
     },
     "metadata": {},
     "output_type": "display_data"
    },
    {
     "data": {
      "image/png": "[encoded data removed]",
      "text/plain": [
       "<matplotlib.figure.Figure at 0x151c7ac50>"
      ]
     },
     "metadata": {},
     "output_type": "display_data"
    },
    {
     "data": {
      "image/png": "[encoded data removed]",
      "text/plain": [
       "<matplotlib.figure.Figure at 0x110f22ba8>"
      ]
     },
     "metadata": {},
     "output_type": "display_data"
    },
    {
     "data": {
      "image/png": "[encoded data removed]",
      "text/plain": [
       "<matplotlib.figure.Figure at 0x168c1f630>"
      ]
     },
     "metadata": {},
     "output_type": "display_data"
    },
    {
     "data": {
      "image/png": "[encoded data removed]",
      "text/plain": [
       "<matplotlib.figure.Figure at 0x151936a90>"
      ]
     },
     "metadata": {},
     "output_type": "display_data"
    }
   ],
   "source": [
    "### Load the images and plot them here.\n",
    "### Feel free to use as many code cells as needed.\n",
    "\n",
    "#select subset of images from test data to visually understand what is going on\n",
    "#test_images = []\n",
    "sign_meanings = []\n",
    "num_test_images = 5\n",
    "X_test_subset = []\n",
    "X_test_subset_display = []\n",
    "y_test_subset = []\n",
    "\n",
    "for n in range(num_test_images):\n",
    "    index = random.randint(0, len(X_test_norm))\n",
    "#    test_images.append(X_test_norm[index].squeeze())\n",
    "    X_test_subset.append(X_test_norm[index])\n",
    "    #append not normalized images for display purposes\n",
    "    X_test_subset_display.append(X_test[index])\n",
    "    class_id = y_test[index]\n",
    "    y_test_subset.append(y_test[index])\n",
    "    sign_meanings.append(signes_names_idx.loc[class_id:class_id])\n",
    "    #print(class_id, signes_names_idx.loc[class_id:class_id])\n",
    "    \n",
    "for n in range(num_test_images):\n",
    "    plt.figure(figsize=(1,1)).add_subplot(1,1,1).set_title(sign_meanings[n])\n",
    "    X_test_subset_display[n] = X_test_subset_display[n].squeeze()\n",
    "    plt.imshow(X_test_subset_display[n], cmap='gray')\n",
    "\n",
    "#compute prediction of the sign    \n",
    "prediction=tf.argmax(logits,1)\n",
    "def test(X_data, y_data):\n",
    "    num_examples = len(X_data)\n",
    "    total_accuracy = 0\n",
    "    sess = tf.get_default_session()\n",
    "    for n in range(num_examples):\n",
    "        accuracy = sess.run(accuracy_operation, feed_dict={x: X_data, y: y_data})\n",
    "        total_accuracy += (accuracy * len(X_data))\n",
    "        predictions = sess.run(prediction, feed_dict={x: X_data, y: y_data})\n",
    "    return total_accuracy / num_examples, predictions\n",
    "\n",
    "#Test the Model on the subset. Note! It is not meant to be used to tune the model, just for educational purpose.\n",
    "#X_test_subset = normalize(X_test_subset)\n",
    "\n",
    "with tf.Session() as sess:\n",
    "    saver.restore(sess, tf.train.latest_checkpoint('.'))\n",
    "    num_examples = len(X_test_subset)\n",
    "    \n",
    "    print(\"Testing {} images\".format(num_examples))\n",
    "    validation_accuracy, predictions = test(X_test_subset, y_test_subset)\n",
    "    print(\"Testing Accuracy = {:.3f}\".format(validation_accuracy))\n",
    "    print()\n",
    "    print(predictions)\n"
   ]
  },
  {
   "cell_type": "code",
   "execution_count": 9,
   "metadata": {
    "collapsed": false,
    "deletable": true,
    "editable": true
   },
   "outputs": [
    {
     "name": "stdout",
     "output_type": "stream",
     "text": [
      "Test Accuracy = 0.896\n"
     ]
    }
   ],
   "source": [
    "#Evaluate on the full set of test images\n",
    "with tf.Session() as sess:\n",
    "    saver.restore(sess, tf.train.latest_checkpoint('.'))\n",
    "\n",
    "    test_accuracy = evaluate(X_test, y_test)\n",
    "    print(\"Test Accuracy = {:.3f}\".format(test_accuracy))"
   ]
  },
  {
   "cell_type": "code",
   "execution_count": 10,
   "metadata": {
    "collapsed": false,
    "deletable": true,
    "editable": true
   },
   "outputs": [
    {
     "name": "stdout",
     "output_type": "stream",
     "text": [
      "found 100_1607.jpg\n",
      "found 459381007.jpg\n",
      "found 459381023.jpg\n",
      "found 459381091.jpg\n",
      "found 459381095.jpg\n",
      "found 459381295.jpg\n",
      "found 465921879.jpg\n",
      "found mifuUb0.jpg\n",
      "found Unknown.jpg\n",
      "shape of test data:  (9, 32, 32, 1)\n"
     ]
    }
   ],
   "source": [
    "#load images from disk\n",
    "import os, sys, glob\n",
    "from PIL import Image\n",
    "\n",
    "infile = \"web/Unknown.jpg\"\n",
    "outfile = \"web/scaled/test.jpg\"\n",
    "in_directory = \"web\"\n",
    "out_directory = \"web/scaled\"\n",
    "out_directory_padded = \"web/padded\"\n",
    "\n",
    "size = 32, 32\n",
    "\n",
    "for filename in os.listdir(in_directory):\n",
    "    if filename.endswith(\".jpg\"): \n",
    "        print(\"found\", filename)\n",
    "        #scale\n",
    "        im = Image.open(os.path.join(in_directory, filename))\n",
    "        im.thumbnail(size, Image.ANTIALIAS)\n",
    "        im.save(os.path.join(out_directory, filename))\n",
    "        #pad\n",
    "        img = Image.open(os.path.join(out_directory, filename))\n",
    "        longer_side = max(img.size)\n",
    "        horizontal_padding = (longer_side - img.size[0]) / 2\n",
    "        vertical_padding = (longer_side - img.size[1]) / 2\n",
    "        img_padded = img.crop(\n",
    "            (\n",
    "                -horizontal_padding,\n",
    "                -vertical_padding,\n",
    "                img.size[0] + horizontal_padding,\n",
    "                img.size[1] + vertical_padding\n",
    "            )\n",
    "        )\n",
    "        img_padded.save(os.path.join(out_directory_padded, filename))\n",
    "        continue\n",
    "    else:\n",
    "        #print(\"No JPEG images found\")\n",
    "        continue\n",
    "\n",
    "\n",
    "#load padded data        \n",
    "filelist = glob.glob(out_directory_padded + '/*.jpg')   \n",
    "X_new = np.array([np.array(Image.open(fname)) for fname in filelist])\n",
    "\n",
    "#compute prediction of the sign    \n",
    "prediction=tf.argmax(logits,1)\n",
    "probability = tf.nn.softmax(logits)\n",
    "def test_new(X_data):\n",
    "    num_examples = len(X_data)\n",
    "    sess = tf.get_default_session()\n",
    "    for n in range(num_examples):\n",
    "        predictions = sess.run(prediction, feed_dict={x: X_data})\n",
    "        probabilities = sess.run(probability, feed_dict={x: X_data})\n",
    "    return predictions, probabilities\n",
    "\n",
    "#normalize input\n",
    "def normalize_np(image):\n",
    "   mean, std = np.mean(image, axis = 0), np.std(image, axis = 0)\n",
    "   image_norm = (image - mean) / std\n",
    "   return image_norm\n",
    "\n",
    "X_new = rgb2gray(X_new)\n",
    "X_new = X_new.reshape(len(X_new),32,32,1)\n",
    "X_new_prep = normalize_np(X_new)\n",
    "print (\"shape of test data: \", X_new_prep.shape)\n",
    "\n"
   ]
  },
  {
   "cell_type": "markdown",
   "metadata": {
    "deletable": true,
    "editable": true
   },
   "source": [
    "### Predict the Sign Type for Each Image"
   ]
  },
  {
   "cell_type": "code",
   "execution_count": 11,
   "metadata": {
    "collapsed": false,
    "deletable": true,
    "editable": true
   },
   "outputs": [
    {
     "name": "stdout",
     "output_type": "stream",
     "text": [
      "Testing 9 images\n",
      "\n",
      "predictions:\n",
      "[30 23  1  9 39 28 26 29 17]\n"
     ]
    },
    {
     "data": {
      "image/png": "[encoded data removed]",
      "text/plain": [
       "<matplotlib.figure.Figure at 0x110ff8e80>"
      ]
     },
     "metadata": {},
     "output_type": "display_data"
    },
    {
     "data": {
      "image/png": "[encoded data removed]",
      "text/plain": [
       "<matplotlib.figure.Figure at 0x168b8a630>"
      ]
     },
     "metadata": {},
     "output_type": "display_data"
    },
    {
     "data": {
      "image/png": "[encoded data removed]",
      "text/plain": [
       "<matplotlib.figure.Figure at 0x151b99ef0>"
      ]
     },
     "metadata": {},
     "output_type": "display_data"
    },
    {
     "data": {
      "image/png": "[encoded data removed]",
      "text/plain": [
       "<matplotlib.figure.Figure at 0x1519ecef0>"
      ]
     },
     "metadata": {},
     "output_type": "display_data"
    },
    {
     "data": {
      "image/png": "[encoded data removed]",
      "text/plain": [
       "<matplotlib.figure.Figure at 0x151bf7dd8>"
      ]
     },
     "metadata": {},
     "output_type": "display_data"
    },
    {
     "data": {
      "image/png": "[encoded data removed]",
      "text/plain": [
       "<matplotlib.figure.Figure at 0x151a8e7b8>"
      ]
     },
     "metadata": {},
     "output_type": "display_data"
    },
    {
     "data": {
      "image/png": "[encoded data removed]",
      "text/plain": [
       "<matplotlib.figure.Figure at 0x151b14c88>"
      ]
     },
     "metadata": {},
     "output_type": "display_data"
    },
    {
     "data": {
      "image/png": "[encoded data removed]",
      "text/plain": [
       "<matplotlib.figure.Figure at 0x1519ad668>"
      ]
     },
     "metadata": {},
     "output_type": "display_data"
    },
    {
     "data": {
      "image/png": "[encoded data removed]",
      "text/plain": [
       "<matplotlib.figure.Figure at 0x151cb2978>"
      ]
     },
     "metadata": {},
     "output_type": "display_data"
    }
   ],
   "source": [
    "### Run the predictions here and use the model to output the prediction for each image.\n",
    "### Make sure to pre-process the images with the same pre-processing pipeline used earlier.\n",
    "### Feel free to use as many code cells as needed.\n",
    "\n",
    "#test the Model\n",
    "with tf.Session() as sess:\n",
    "    saver.restore(sess, tf.train.latest_checkpoint('.'))\n",
    "    num_examples = len(X_new_prep)\n",
    "    \n",
    "    print(\"Testing {} images\".format(num_examples))\n",
    "    predictions, probabilities = test_new(X_new_prep)\n",
    "    print()\n",
    "    print(\"predictions:\")\n",
    "    print(predictions)\n",
    "    \n",
    "#show original padded images with associated predictions\n",
    "for n in range(X_new.shape[0]):\n",
    "    plt.figure(figsize=(1,1)).add_subplot(1,1,1).set_title(signes_names_idx.loc[predictions[n]:predictions[n]])\n",
    "    X_temp = X_new[n].squeeze()\n",
    "    plt.imshow(X_temp, cmap='gray')     \n",
    "   # plt.imshow(X_new[n])     "
   ]
  },
  {
   "cell_type": "markdown",
   "metadata": {
    "deletable": true,
    "editable": true
   },
   "source": [
    "### Analyze Performance"
   ]
  },
  {
   "cell_type": "code",
   "execution_count": 12,
   "metadata": {
    "collapsed": false,
    "deletable": true,
    "editable": true
   },
   "outputs": [
    {
     "name": "stdout",
     "output_type": "stream",
     "text": [
      "Accuracy is computed manually and is 22.2%\n"
     ]
    }
   ],
   "source": [
    "### Calculate the accuracy for these 5 new images. \n",
    "### For example, if the model predicted 1 out of 5 signs correctly, it's 20% accurate on these new images.\n",
    "print(\"Accuracy is computed manually and is {:03.1f}%\".format(100.*(2/9)))"
   ]
  },
  {
   "cell_type": "markdown",
   "metadata": {
    "deletable": true,
    "editable": true
   },
   "source": [
    "### Output Top 5 Softmax Probabilities For Each Image Found on the Web"
   ]
  },
  {
   "cell_type": "markdown",
   "metadata": {
    "deletable": true,
    "editable": true
   },
   "source": [
    "For each of the new images, print out the model's softmax probabilities to show the **certainty** of the model's predictions (limit the output to the top 5 probabilities for each image). [`tf.nn.top_k`](https://www.tensorflow.org/versions/r0.12/api_docs/python/nn.html#top_k) could prove helpful here. \n",
    "\n",
    "The example below demonstrates how tf.nn.top_k can be used to find the top k predictions for each image.\n",
    "\n",
    "`tf.nn.top_k` will return the values and indices (class ids) of the top k predictions. So if k=3, for each sign, it'll return the 3 largest probabilities (out of a possible 43) and the correspoding class ids.\n",
    "\n",
    "Take this numpy array as an example. The values in the array represent predictions. The array contains softmax probabilities for five candidate images with six possible classes. `tk.nn.top_k` is used to choose the three classes with the highest probability:\n",
    "\n",
    "```\n",
    "# (5, 6) array\n",
    "a = np.array([[ 0.24879643,  0.07032244,  0.12641572,  0.34763842,  0.07893497,\n",
    "         0.12789202],\n",
    "       [ 0.28086119,  0.27569815,  0.08594638,  0.0178669 ,  0.18063401,\n",
    "         0.15899337],\n",
    "       [ 0.26076848,  0.23664738,  0.08020603,  0.07001922,  0.1134371 ,\n",
    "         0.23892179],\n",
    "       [ 0.11943333,  0.29198961,  0.02605103,  0.26234032,  0.1351348 ,\n",
    "         0.16505091],\n",
    "       [ 0.09561176,  0.34396535,  0.0643941 ,  0.16240774,  0.24206137,\n",
    "         0.09155967]])\n",
    "```\n",
    "\n",
    "Running it through `sess.run(tf.nn.top_k(tf.constant(a), k=3))` produces:\n",
    "\n",
    "```\n",
    "TopKV2(values=array([[ 0.34763842,  0.24879643,  0.12789202],\n",
    "       [ 0.28086119,  0.27569815,  0.18063401],\n",
    "       [ 0.26076848,  0.23892179,  0.23664738],\n",
    "       [ 0.29198961,  0.26234032,  0.16505091],\n",
    "       [ 0.34396535,  0.24206137,  0.16240774]]), indices=array([[3, 0, 5],\n",
    "       [0, 1, 4],\n",
    "       [0, 5, 1],\n",
    "       [1, 3, 5],\n",
    "       [1, 4, 3]], dtype=int32))\n",
    "```\n",
    "\n",
    "Looking just at the first row we get `[ 0.34763842,  0.24879643,  0.12789202]`, you can confirm these are the 3 largest probabilities in `a`. You'll also notice `[3, 0, 5]` are the corresponding indices."
   ]
  },
  {
   "cell_type": "code",
   "execution_count": 13,
   "metadata": {
    "collapsed": false,
    "deletable": true,
    "editable": true
   },
   "outputs": [
    {
     "name": "stdout",
     "output_type": "stream",
     "text": [
      "(9, 43)\n",
      "TopKV2(values=array([[  9.99992609e-01,   7.42064367e-06,   3.50516665e-08,\n",
      "          1.30686808e-19,   8.73506962e-25],\n",
      "       [  9.99968171e-01,   1.87835576e-05,   7.08505877e-06,\n",
      "          5.93605864e-06,   1.12764387e-09],\n",
      "       [  7.52751768e-01,   2.47063994e-01,   9.53051276e-05,\n",
      "          8.69484356e-05,   1.34925733e-06],\n",
      "       [  9.95337367e-01,   4.63540526e-03,   2.30699934e-05,\n",
      "          3.00491570e-06,   7.67915878e-07],\n",
      "       [  9.86710608e-01,   1.30056506e-02,   2.50183191e-04,\n",
      "          2.49393361e-05,   5.02578905e-06],\n",
      "       [  3.96285802e-01,   3.83027464e-01,   2.18741506e-01,\n",
      "          1.88540784e-03,   5.41202971e-05],\n",
      "       [  9.98042464e-01,   1.18538935e-03,   1.75231718e-04,\n",
      "          1.69450504e-04,   1.64770448e-04],\n",
      "       [  9.99968171e-01,   1.59184892e-05,   1.01393580e-05,\n",
      "          5.74075921e-06,   7.45225126e-09],\n",
      "       [  1.00000000e+00,   1.75104970e-14,   2.35814148e-19,\n",
      "          8.69552681e-20,   2.27133531e-26]], dtype=float32), indices=array([[30, 11, 28, 29, 18],\n",
      "       [23,  9,  2,  3, 35],\n",
      "       [ 1,  0,  2, 39,  5],\n",
      "       [17,  9, 20, 23, 10],\n",
      "       [37, 30, 24, 18, 17],\n",
      "       [23, 17, 20, 38, 28],\n",
      "       [38, 29, 14, 28,  3],\n",
      "       [29, 35, 25, 38, 36],\n",
      "       [17, 38, 22, 14, 30]], dtype=int32))\n",
      "\n",
      "indices: \n",
      " [[30 11 28 29 18]\n",
      " [23  9  2  3 35]\n",
      " [ 1  0  2 39  5]\n",
      " [17  9 20 23 10]\n",
      " [37 30 24 18 17]\n",
      " [23 17 20 38 28]\n",
      " [38 29 14 28  3]\n",
      " [29 35 25 38 36]\n",
      " [17 38 22 14 30]]\n"
     ]
    }
   ],
   "source": [
    "### Print out the top five softmax probabilities for the predictions on the German traffic sign images found on the web. \n",
    "### Feel free to use as many code cells as needed.\n",
    "\n",
    "with tf.Session() as sess:\n",
    "    print(probabilities.shape)\n",
    "    top5_probabilities = sess.run(tf.nn.top_k(tf.constant(probabilities), k=5))\n",
    "    print(top5_probabilities)\n",
    "\n",
    "print()    \n",
    "print(\"indices: \\n\",top5_probabilities[1])\n",
    "indicis = top5_probabilities[1]\n",
    "\n",
    "mean_predictions = []\n",
    "max_predictions = []\n",
    "\n",
    "for n in range(len(indicis)):\n",
    "    mean_predictions.append(int(np.mean(indicis[n:n+1])))\n",
    "    max_predictions.append((np.amax(indicis[n:n+1])))\n",
    "\n",
    "#print (max_predictions)"
   ]
  },
  {
   "cell_type": "code",
   "execution_count": null,
   "metadata": {
    "collapsed": false,
    "deletable": true,
    "editable": true
   },
   "outputs": [],
   "source": [
    "#show original padded images with associated mean probabilities\n",
    "for n in range(X_new.shape[0]):\n",
    "    plt.figure(figsize=(1,1)).add_subplot(1,1,1).set_title(signes_names_idx.loc[max_predictions[n]:max_predictions[n]])\n",
    "    X_temp = X_new[n].squeeze()\n",
    "    plt.imshow(X_temp, cmap='gray') \n",
    "    #plt.imshow(X_new[n])  "
   ]
  },
  {
   "cell_type": "code",
   "execution_count": null,
   "metadata": {
    "collapsed": false,
    "deletable": true,
    "editable": true
   },
   "outputs": [],
   "source": [
    "#show original padded images with associated max probabilities\n",
    "for n in range(X_new.shape[0]):\n",
    "    plt.figure(figsize=(1,1)).add_subplot(1,1,1).set_title(signes_names_idx.loc[mean_predictions[n]:mean_predictions[n]])\n",
    "    X_temp = X_new[n].squeeze()\n",
    "    plt.imshow(X_temp, cmap='gray') \n",
    "    #plt.imshow(X_new[n])  "
   ]
  },
  {
   "cell_type": "markdown",
   "metadata": {
    "deletable": true,
    "editable": true
   },
   "source": [
    "### Project Writeup\n",
    "\n",
    "Once you have completed the code implementation, document your results in a project writeup using this [template](https://github.com/udacity/CarND-Traffic-Sign-Classifier-Project/blob/master/writeup_template.md) as a guide. The writeup can be in a markdown or pdf file. "
   ]
  },
  {
   "cell_type": "markdown",
   "metadata": {
    "deletable": true,
    "editable": true
   },
   "source": [
    "> **Note**: Once you have completed all of the code implementations and successfully answered each question above, you may finalize your work by exporting the iPython Notebook as an HTML document. You can do this by using the menu above and navigating to  \\n\",\n",
    "    \"**File -> Download as -> HTML (.html)**. Include the finished document along with this notebook as your submission."
   ]
  },
  {
   "cell_type": "markdown",
   "metadata": {
    "deletable": true,
    "editable": true
   },
   "source": [
    "---\n",
    "\n",
    "## Step 4 (Optional): Visualize the Neural Network's State with Test Images\n",
    "\n",
    " This Section is not required to complete but acts as an additional excersise for understaning the output of a neural network's weights. While neural networks can be a great learning device they are often referred to as a black box. We can understand what the weights of a neural network look like better by plotting their feature maps. After successfully training your neural network you can see what it's feature maps look like by plotting the output of the network's weight layers in response to a test stimuli image. From these plotted feature maps, it's possible to see what characteristics of an image the network finds interesting. For a sign, maybe the inner network feature maps react with high activation to the sign's boundary outline or to the contrast in the sign's painted symbol.\n",
    "\n",
    " Provided for you below is the function code that allows you to get the visualization output of any tensorflow weight layer you want. The inputs to the function should be a stimuli image, one used during training or a new one you provided, and then the tensorflow variable name that represents the layer's state during the training process, for instance if you wanted to see what the [LeNet lab's](https://classroom.udacity.com/nanodegrees/nd013/parts/fbf77062-5703-404e-b60c-95b78b2f3f9e/modules/6df7ae49-c61c-4bb2-a23e-6527e69209ec/lessons/601ae704-1035-4287-8b11-e2c2716217ad/concepts/d4aca031-508f-4e0b-b493-e7b706120f81) feature maps looked like for it's second convolutional layer you could enter conv2 as the tf_activation variable.\n",
    "\n",
    "For an example of what feature map outputs look like, check out NVIDIA's results in their paper [End-to-End Deep Learning for Self-Driving Cars](https://devblogs.nvidia.com/parallelforall/deep-learning-self-driving-cars/) in the section Visualization of internal CNN State. NVIDIA was able to show that their network's inner weights had high activations to road boundary lines by comparing feature maps from an image with a clear path to one without. Try experimenting with a similar test to show that your trained network's weights are looking for interesting features, whether it's looking at differences in feature maps from images with or without a sign, or even what feature maps look like in a trained network vs a completely untrained one on the same sign image.\n",
    "\n",
    "<figure>\n",
    " <img src=\"visualize_cnn.png\" width=\"380\" alt=\"Combined Image\" />\n",
    " <figcaption>\n",
    " <p></p> \n",
    " <p style=\"text-align: center;\"> Your output should look something like this (above)</p> \n",
    " </figcaption>\n",
    "</figure>\n",
    " <p></p> \n"
   ]
  },
  {
   "cell_type": "code",
   "execution_count": null,
   "metadata": {
    "collapsed": true,
    "deletable": true,
    "editable": true
   },
   "outputs": [],
   "source": [
    "### Visualize your network's feature maps here.\n",
    "### Feel free to use as many code cells as needed.\n",
    "\n",
    "# image_input: the test image being fed into the network to produce the feature maps\n",
    "# tf_activation: should be a tf variable name used during your training procedure that represents the calculated state of a specific weight layer\n",
    "# activation_min/max: can be used to view the activation contrast in more detail, by default matplot sets min and max to the actual min and max values of the output\n",
    "# plt_num: used to plot out multiple different weight feature map sets on the same block, just extend the plt number for each new feature map entry\n",
    "\n",
    "def outputFeatureMap(image_input, tf_activation, activation_min=-1, activation_max=-1 ,plt_num=1):\n",
    "    # Here make sure to preprocess your image_input in a way your network expects\n",
    "    # with size, normalization, ect if needed\n",
    "    # image_input =\n",
    "    # Note: x should be the same name as your network's tensorflow data placeholder variable\n",
    "    # If you get an error tf_activation is not defined it may be having trouble accessing the variable from inside a function\n",
    "    activation = tf_activation.eval(session=sess,feed_dict={x : image_input})\n",
    "    featuremaps = activation.shape[3]\n",
    "    plt.figure(plt_num, figsize=(15,15))\n",
    "    for featuremap in range(featuremaps):\n",
    "        plt.subplot(6,8, featuremap+1) # sets the number of feature maps to show on each row and column\n",
    "        plt.title('FeatureMap ' + str(featuremap)) # displays the feature map number\n",
    "        if activation_min != -1 & activation_max != -1:\n",
    "            plt.imshow(activation[0,:,:, featuremap], interpolation=\"nearest\", vmin =activation_min, vmax=activation_max, cmap=\"gray\")\n",
    "        elif activation_max != -1:\n",
    "            plt.imshow(activation[0,:,:, featuremap], interpolation=\"nearest\", vmax=activation_max, cmap=\"gray\")\n",
    "        elif activation_min !=-1:\n",
    "            plt.imshow(activation[0,:,:, featuremap], interpolation=\"nearest\", vmin=activation_min, cmap=\"gray\")\n",
    "        else:\n",
    "            plt.imshow(activation[0,:,:, featuremap], interpolation=\"nearest\", cmap=\"gray\")"
   ]
  },
  {
   "cell_type": "code",
   "execution_count": null,
   "metadata": {
    "collapsed": false,
    "deletable": true,
    "editable": true
   },
   "outputs": [],
   "source": [
    "with tf.Session() as sess:\n",
    "    saver.restore(sess, tf.train.latest_checkpoint('.'))\n",
    "    outputFeatureMap(X_test_subset, L3_display)"
   ]
  },
  {
   "cell_type": "code",
   "execution_count": null,
   "metadata": {
    "collapsed": true
   },
   "outputs": [],
   "source": []
  }
 ],
 "metadata": {
  "anaconda-cloud": {},
  "kernelspec": {
   "display_name": "Python 3",
   "language": "python",
   "name": "python3"
  },
  "language_info": {
   "codemirror_mode": {
    "name": "ipython",
    "version": 3
   },
   "file_extension": ".py",
   "mimetype": "text/x-python",
   "name": "python",
   "nbconvert_exporter": "python",
   "pygments_lexer": "ipython3",
   "version": "3.5.2"
  },
  "widgets": {
   "state": {},
   "version": "1.1.2"
  }
 },
 "nbformat": 4,
 "nbformat_minor": 1
}
